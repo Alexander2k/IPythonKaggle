{
 "cells": [
  {
   "cell_type": "code",
   "execution_count": 1,
   "metadata": {
    "collapsed": false
   },
   "outputs": [],
   "source": [
    "import pandas as pd\n",
    "import numpy as np\n",
    "import sklearn \n",
    "from sklearn.model_selection import GridSearchCV\n",
    "from sklearn.model_selection import RandomizedSearchCV\n",
    "from sklearn.preprocessing import StandardScaler"
   ]
  },
  {
   "cell_type": "code",
   "execution_count": 2,
   "metadata": {
    "collapsed": false
   },
   "outputs": [],
   "source": [
    "ds = pd.read_csv(\"D:/ML/Leaf_Classification/train.csv.zip\")\n",
    "ds_test = pd.read_csv(\"D:/ML/Leaf_Classification/test.csv.zip\")"
   ]
  },
  {
   "cell_type": "code",
   "execution_count": 3,
   "metadata": {
    "collapsed": true
   },
   "outputs": [],
   "source": [
    "X_train = ds.drop(['species', 'id'], axis=1) \n",
    "Y_train = ds['species']"
   ]
  },
  {
   "cell_type": "code",
   "execution_count": 4,
   "metadata": {
    "collapsed": true
   },
   "outputs": [],
   "source": [
    "X_test = ds_test.drop([ 'id'], axis=1) "
   ]
  },
  {
   "cell_type": "code",
   "execution_count": 5,
   "metadata": {
    "collapsed": false
   },
   "outputs": [],
   "source": [
    "scaler = StandardScaler()\n",
    "scaler.fit(X_train, Y_train)\n",
    "scaled_train_data = scaler.transform(X_train)\n",
    "scaled_test_data = scaler.transform(X_test)\n"
   ]
  },
  {
   "cell_type": "code",
   "execution_count": 6,
   "metadata": {
    "collapsed": false
   },
   "outputs": [],
   "source": [
    "import xgboost as xgb "
   ]
  },
  {
   "cell_type": "code",
   "execution_count": 7,
   "metadata": {
    "collapsed": false
   },
   "outputs": [],
   "source": [
    "model = xgb.XGBClassifier()"
   ]
  },
  {
   "cell_type": "code",
   "execution_count": 8,
   "metadata": {
    "collapsed": false
   },
   "outputs": [
    {
     "data": {
      "text/plain": [
       "XGBClassifier(base_score=0.5, colsample_bylevel=1, colsample_bytree=1,\n",
       "       gamma=0, learning_rate=0.1, max_delta_step=0, max_depth=3,\n",
       "       min_child_weight=1, missing=None, n_estimators=100, nthread=-1,\n",
       "       objective='multi:softprob', reg_alpha=0, reg_lambda=1,\n",
       "       scale_pos_weight=1, seed=0, silent=True, subsample=1)"
      ]
     },
     "execution_count": 8,
     "metadata": {},
     "output_type": "execute_result"
    }
   ],
   "source": [
    "\n",
    "model.fit(scaled_train_data, Y_train)\n"
   ]
  },
  {
   "cell_type": "code",
   "execution_count": 9,
   "metadata": {
    "collapsed": false
   },
   "outputs": [
    {
     "data": {
      "text/plain": [
       "dict_keys(['missing', 'max_depth', 'scale_pos_weight', 'max_delta_step', 'silent', 'learning_rate', 'seed', 'objective', 'base_score', 'min_child_weight', 'nthread', 'reg_alpha', 'colsample_bytree', 'colsample_bylevel', 'reg_lambda', 'gamma', 'subsample', 'n_estimators'])"
      ]
     },
     "execution_count": 9,
     "metadata": {},
     "output_type": "execute_result"
    }
   ],
   "source": [
    "model.get_params().keys()"
   ]
  },
  {
   "cell_type": "code",
   "execution_count": 10,
   "metadata": {
    "collapsed": true
   },
   "outputs": [],
   "source": [
    "parameters_grid = {\n",
    "    'max_depth':range(1,10,1),\n",
    "    #'gamma' : np.linspace(0,10,num=21),\n",
    "    #'subsample': np.linspace(0,1,num=21),\n",
    "    #'min_child_weight':np.linspace(0,20,num=21),\n",
    "    #'colsample_bytree':range(1,10,1),\n",
    "    #'eta':np.linspace(0,1)\n",
    "}"
   ]
  },
  {
   "cell_type": "code",
   "execution_count": 11,
   "metadata": {
    "collapsed": false
   },
   "outputs": [],
   "source": [
    "grid_cv = GridSearchCV(model, parameters_grid, scoring = 'accuracy',cv=5)"
   ]
  },
  {
   "cell_type": "code",
   "execution_count": 12,
   "metadata": {
    "collapsed": false
   },
   "outputs": [
    {
     "name": "stdout",
     "output_type": "stream",
     "text": [
      "Wall time: 1h 12min 15s\n"
     ]
    },
    {
     "data": {
      "text/plain": [
       "GridSearchCV(cv=5, error_score='raise',\n",
       "       estimator=XGBClassifier(base_score=0.5, colsample_bylevel=1, colsample_bytree=1,\n",
       "       gamma=0, learning_rate=0.1, max_delta_step=0, max_depth=3,\n",
       "       min_child_weight=1, missing=None, n_estimators=100, nthread=-1,\n",
       "       objective='multi:softprob', reg_alpha=0, reg_lambda=1,\n",
       "       scale_pos_weight=1, seed=0, silent=True, subsample=1),\n",
       "       fit_params={}, iid=True, n_jobs=1,\n",
       "       param_grid={'max_depth': range(1, 10)}, pre_dispatch='2*n_jobs',\n",
       "       refit=True, return_train_score=True, scoring='accuracy', verbose=0)"
      ]
     },
     "execution_count": 12,
     "metadata": {},
     "output_type": "execute_result"
    }
   ],
   "source": [
    "%%time\n",
    "grid_cv.fit(scaled_train_data,Y_train) "
   ]
  },
  {
   "cell_type": "code",
   "execution_count": 13,
   "metadata": {
    "collapsed": false
   },
   "outputs": [],
   "source": [
    "predictions_p = grid_cv.best_estimator_.predict_proba(scaled_test_data)"
   ]
  },
  {
   "cell_type": "code",
   "execution_count": 14,
   "metadata": {
    "collapsed": false
   },
   "outputs": [
    {
     "data": {
      "text/plain": [
       "array([[  6.91379746e-03,   1.51414424e-03,   1.22545427e-03, ...,\n",
       "          2.26981984e-03,   1.89315286e-02,   1.80445972e-03],\n",
       "       [  3.47216934e-04,   2.96987244e-04,   5.42712770e-03, ...,\n",
       "          2.20464705e-03,   2.30052072e-04,   9.83443111e-04],\n",
       "       [  1.17585261e-03,   7.82484591e-01,   1.51116727e-03, ...,\n",
       "          2.30786041e-04,   2.86586670e-04,   8.29170737e-03],\n",
       "       ..., \n",
       "       [  9.53459879e-04,   4.08868399e-03,   3.67194385e-04, ...,\n",
       "          1.07910589e-03,   4.90282371e-04,   1.15296058e-03],\n",
       "       [  3.81449261e-03,   1.90082623e-03,   1.07260607e-02, ...,\n",
       "          1.53435357e-02,   3.02683841e-03,   6.60172384e-03],\n",
       "       [  5.18890956e-05,   8.05188436e-04,   1.88002377e-04, ...,\n",
       "          4.17723459e-05,   4.54610963e-05,   1.45153856e-04]], dtype=float32)"
      ]
     },
     "execution_count": 14,
     "metadata": {},
     "output_type": "execute_result"
    }
   ],
   "source": [
    "predictions_p"
   ]
  },
  {
   "cell_type": "code",
   "execution_count": 15,
   "metadata": {
    "collapsed": false
   },
   "outputs": [],
   "source": [
    "result = pd.DataFrame(index=ds_test.id, columns=model.classes_, data=predictions_p)\n",
    "sub = result.reset_index()\n",
    "sub.to_csv('submission.csv', index = False)\n"
   ]
  },
  {
   "cell_type": "code",
   "execution_count": 16,
   "metadata": {
    "collapsed": false
   },
   "outputs": [
    {
     "data": {
      "text/html": [
       "<div>\n",
       "<table border=\"1\" class=\"dataframe\">\n",
       "  <thead>\n",
       "    <tr style=\"text-align: right;\">\n",
       "      <th></th>\n",
       "      <th>id</th>\n",
       "      <th>Acer_Capillipes</th>\n",
       "      <th>Acer_Circinatum</th>\n",
       "      <th>Acer_Mono</th>\n",
       "      <th>Acer_Opalus</th>\n",
       "      <th>Acer_Palmatum</th>\n",
       "      <th>Acer_Pictum</th>\n",
       "      <th>Acer_Platanoids</th>\n",
       "      <th>Acer_Rubrum</th>\n",
       "      <th>Acer_Rufinerve</th>\n",
       "      <th>...</th>\n",
       "      <th>Salix_Fragilis</th>\n",
       "      <th>Salix_Intergra</th>\n",
       "      <th>Sorbus_Aria</th>\n",
       "      <th>Tilia_Oliveri</th>\n",
       "      <th>Tilia_Platyphyllos</th>\n",
       "      <th>Tilia_Tomentosa</th>\n",
       "      <th>Ulmus_Bergmanniana</th>\n",
       "      <th>Viburnum_Tinus</th>\n",
       "      <th>Viburnum_x_Rhytidophylloides</th>\n",
       "      <th>Zelkova_Serrata</th>\n",
       "    </tr>\n",
       "  </thead>\n",
       "  <tbody>\n",
       "    <tr>\n",
       "      <th>589</th>\n",
       "      <td>1576</td>\n",
       "      <td>0.001660</td>\n",
       "      <td>0.800807</td>\n",
       "      <td>0.001581</td>\n",
       "      <td>0.003666</td>\n",
       "      <td>0.002520</td>\n",
       "      <td>0.000356</td>\n",
       "      <td>0.000568</td>\n",
       "      <td>0.003917</td>\n",
       "      <td>0.017043</td>\n",
       "      <td>...</td>\n",
       "      <td>0.000482</td>\n",
       "      <td>0.000220</td>\n",
       "      <td>0.000342</td>\n",
       "      <td>0.000949</td>\n",
       "      <td>0.001099</td>\n",
       "      <td>0.001257</td>\n",
       "      <td>0.000718</td>\n",
       "      <td>0.000241</td>\n",
       "      <td>0.000300</td>\n",
       "      <td>0.021337</td>\n",
       "    </tr>\n",
       "    <tr>\n",
       "      <th>590</th>\n",
       "      <td>1577</td>\n",
       "      <td>0.003932</td>\n",
       "      <td>0.000437</td>\n",
       "      <td>0.000500</td>\n",
       "      <td>0.004109</td>\n",
       "      <td>0.001149</td>\n",
       "      <td>0.000545</td>\n",
       "      <td>0.001174</td>\n",
       "      <td>0.006087</td>\n",
       "      <td>0.002117</td>\n",
       "      <td>...</td>\n",
       "      <td>0.000996</td>\n",
       "      <td>0.000598</td>\n",
       "      <td>0.003931</td>\n",
       "      <td>0.000745</td>\n",
       "      <td>0.004822</td>\n",
       "      <td>0.004459</td>\n",
       "      <td>0.002314</td>\n",
       "      <td>0.000499</td>\n",
       "      <td>0.000620</td>\n",
       "      <td>0.001444</td>\n",
       "    </tr>\n",
       "    <tr>\n",
       "      <th>591</th>\n",
       "      <td>1579</td>\n",
       "      <td>0.000953</td>\n",
       "      <td>0.004089</td>\n",
       "      <td>0.000367</td>\n",
       "      <td>0.000517</td>\n",
       "      <td>0.000534</td>\n",
       "      <td>0.000394</td>\n",
       "      <td>0.000546</td>\n",
       "      <td>0.003638</td>\n",
       "      <td>0.000706</td>\n",
       "      <td>...</td>\n",
       "      <td>0.000463</td>\n",
       "      <td>0.000269</td>\n",
       "      <td>0.000851</td>\n",
       "      <td>0.001910</td>\n",
       "      <td>0.000349</td>\n",
       "      <td>0.000211</td>\n",
       "      <td>0.000261</td>\n",
       "      <td>0.001079</td>\n",
       "      <td>0.000490</td>\n",
       "      <td>0.001153</td>\n",
       "    </tr>\n",
       "    <tr>\n",
       "      <th>592</th>\n",
       "      <td>1580</td>\n",
       "      <td>0.003814</td>\n",
       "      <td>0.001901</td>\n",
       "      <td>0.010726</td>\n",
       "      <td>0.008050</td>\n",
       "      <td>0.012568</td>\n",
       "      <td>0.003762</td>\n",
       "      <td>0.007988</td>\n",
       "      <td>0.003022</td>\n",
       "      <td>0.003162</td>\n",
       "      <td>...</td>\n",
       "      <td>0.004041</td>\n",
       "      <td>0.005751</td>\n",
       "      <td>0.002594</td>\n",
       "      <td>0.012121</td>\n",
       "      <td>0.009215</td>\n",
       "      <td>0.011143</td>\n",
       "      <td>0.002278</td>\n",
       "      <td>0.015344</td>\n",
       "      <td>0.003027</td>\n",
       "      <td>0.006602</td>\n",
       "    </tr>\n",
       "    <tr>\n",
       "      <th>593</th>\n",
       "      <td>1583</td>\n",
       "      <td>0.000052</td>\n",
       "      <td>0.000805</td>\n",
       "      <td>0.000188</td>\n",
       "      <td>0.000054</td>\n",
       "      <td>0.000113</td>\n",
       "      <td>0.000282</td>\n",
       "      <td>0.000115</td>\n",
       "      <td>0.000171</td>\n",
       "      <td>0.000115</td>\n",
       "      <td>...</td>\n",
       "      <td>0.000098</td>\n",
       "      <td>0.000057</td>\n",
       "      <td>0.000074</td>\n",
       "      <td>0.000089</td>\n",
       "      <td>0.000098</td>\n",
       "      <td>0.000265</td>\n",
       "      <td>0.000055</td>\n",
       "      <td>0.000042</td>\n",
       "      <td>0.000045</td>\n",
       "      <td>0.000145</td>\n",
       "    </tr>\n",
       "  </tbody>\n",
       "</table>\n",
       "<p>5 rows × 100 columns</p>\n",
       "</div>"
      ],
      "text/plain": [
       "       id  Acer_Capillipes  Acer_Circinatum  Acer_Mono  Acer_Opalus  \\\n",
       "589  1576         0.001660         0.800807   0.001581     0.003666   \n",
       "590  1577         0.003932         0.000437   0.000500     0.004109   \n",
       "591  1579         0.000953         0.004089   0.000367     0.000517   \n",
       "592  1580         0.003814         0.001901   0.010726     0.008050   \n",
       "593  1583         0.000052         0.000805   0.000188     0.000054   \n",
       "\n",
       "     Acer_Palmatum  Acer_Pictum  Acer_Platanoids  Acer_Rubrum  Acer_Rufinerve  \\\n",
       "589       0.002520     0.000356         0.000568     0.003917        0.017043   \n",
       "590       0.001149     0.000545         0.001174     0.006087        0.002117   \n",
       "591       0.000534     0.000394         0.000546     0.003638        0.000706   \n",
       "592       0.012568     0.003762         0.007988     0.003022        0.003162   \n",
       "593       0.000113     0.000282         0.000115     0.000171        0.000115   \n",
       "\n",
       "          ...         Salix_Fragilis  Salix_Intergra  Sorbus_Aria  \\\n",
       "589       ...               0.000482        0.000220     0.000342   \n",
       "590       ...               0.000996        0.000598     0.003931   \n",
       "591       ...               0.000463        0.000269     0.000851   \n",
       "592       ...               0.004041        0.005751     0.002594   \n",
       "593       ...               0.000098        0.000057     0.000074   \n",
       "\n",
       "     Tilia_Oliveri  Tilia_Platyphyllos  Tilia_Tomentosa  Ulmus_Bergmanniana  \\\n",
       "589       0.000949            0.001099         0.001257            0.000718   \n",
       "590       0.000745            0.004822         0.004459            0.002314   \n",
       "591       0.001910            0.000349         0.000211            0.000261   \n",
       "592       0.012121            0.009215         0.011143            0.002278   \n",
       "593       0.000089            0.000098         0.000265            0.000055   \n",
       "\n",
       "     Viburnum_Tinus  Viburnum_x_Rhytidophylloides  Zelkova_Serrata  \n",
       "589        0.000241                      0.000300         0.021337  \n",
       "590        0.000499                      0.000620         0.001444  \n",
       "591        0.001079                      0.000490         0.001153  \n",
       "592        0.015344                      0.003027         0.006602  \n",
       "593        0.000042                      0.000045         0.000145  \n",
       "\n",
       "[5 rows x 100 columns]"
      ]
     },
     "execution_count": 16,
     "metadata": {},
     "output_type": "execute_result"
    }
   ],
   "source": [
    "sub.tail()"
   ]
  },
  {
   "cell_type": "code",
   "execution_count": null,
   "metadata": {
    "collapsed": true
   },
   "outputs": [],
   "source": []
  }
 ],
 "metadata": {
  "anaconda-cloud": {},
  "kernelspec": {
   "display_name": "Python [conda root]",
   "language": "python",
   "name": "conda-root-py"
  },
  "language_info": {
   "codemirror_mode": {
    "name": "ipython",
    "version": 3
   },
   "file_extension": ".py",
   "mimetype": "text/x-python",
   "name": "python",
   "nbconvert_exporter": "python",
   "pygments_lexer": "ipython3",
   "version": "3.5.2"
  }
 },
 "nbformat": 4,
 "nbformat_minor": 1
}
